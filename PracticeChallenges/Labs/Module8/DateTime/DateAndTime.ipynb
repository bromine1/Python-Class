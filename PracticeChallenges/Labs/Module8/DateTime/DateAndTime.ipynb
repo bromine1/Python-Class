{
 "cells": [
  {
   "cell_type": "code",
   "execution_count": null,
   "metadata": {},
   "outputs": [],
   "source": []
  },
  {
   "cell_type": "markdown",
   "metadata": {},
   "source": [
    "[[PracticeChallenges/Labs/Module8/DateTime/dateAndTimeIndex.png]]"
   ]
  },
  {
   "cell_type": "code",
   "execution_count": null,
   "metadata": {},
   "outputs": [],
   "source": [
    "from datetime import datetime\n",
    "now = datetime.now()\n",
    "#will display current time\n",
    "time = now.strftime(\"%H:%M:%S\")\n",
    "print(\"time:\", time)"
   ]
  }
 ],
 "metadata": {
  "language_info": {
   "name": "python"
  },
  "orig_nbformat": 4
 },
 "nbformat": 4,
 "nbformat_minor": 2
}
